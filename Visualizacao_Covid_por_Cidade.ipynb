{
 "cells": [
  {
   "cell_type": "markdown",
   "metadata": {},
   "source": [
    "# ATENÇÃO\n",
    "\n",
    "**Antes de ir usar as funções, certifique-se de rodas as células que as definem, bem como a célula que importa as bibliotecas e os módulos necessários.**\n",
    "\n",
    "Script elaborado por Vinícius de Almeida Nery Ferreira a partir de dados do Ministério da Saúde. Para mais informações e estatísticas acerca do Coronavírus, visite: https://covid.saude.gov.br\n"
   ]
  },
  {
   "cell_type": "code",
   "execution_count": 6,
   "metadata": {},
   "outputs": [
    {
     "output_type": "display_data",
     "data": {
      "text/html": "        <script type=\"text/javascript\">\n        window.PlotlyConfig = {MathJaxConfig: 'local'};\n        if (window.MathJax) {MathJax.Hub.Config({SVG: {font: \"STIX-Web\"}});}\n        if (typeof require !== 'undefined') {\n        require.undef(\"plotly\");\n        requirejs.config({\n            paths: {\n                'plotly': ['https://cdn.plot.ly/plotly-latest.min']\n            }\n        });\n        require(['plotly'], function(Plotly) {\n            window._Plotly = Plotly;\n        });\n        }\n        </script>\n        "
     },
     "metadata": {}
    }
   ],
   "source": [
    "import pandas as pd \n",
    "import numpy as np \n",
    "from IPython.display import clear_output\n",
    "import os\n",
    "import glob\n",
    "import pathlib\n",
    "import plotly\n",
    "import plotly.offline as py\n",
    "from plotly.subplots import make_subplots\n",
    "from plotly.offline import plot,iplot\n",
    "plotly.offline.init_notebook_mode(connected = True)\n",
    "import plotly.graph_objs as go\n",
    "import plotly.io as pio\n",
    "pio.renderers.default = 'vscode'\n",
    "#pio.renderers.default = 'browser', usado pra quando o programa estiver operacional e user-friendly\n"
   ]
  },
  {
   "cell_type": "code",
   "execution_count": 120,
   "metadata": {},
   "outputs": [],
   "source": [
    "def ColetarBaseDeDados(dia, mes, ano = 2020):\n",
    "    global df\n",
    "    if mes < 10 and dia < 10:\n",
    "        nome = f\"DT_PAINEL_COVIDBR_{ano}0{mes}0{dia}.xlsx\"\n",
    "        nome1 = f\"DT1_PAINEL_COVIDBR_{ano}0{mes}0{dia}.xlsx\"\n",
    "        nome2 = f\"HIST_PAINEL_COVIDBR_{ano}0{mes}0{dia}.xlsx\"\n",
    "    elif mes < 10:\n",
    "        nome = f\"DT_PAINEL_COVIDBR_{ano}0{mes}{dia}.xlsx\"\n",
    "        nome1 = f\"DT1_PAINEL_COVIDBR_{ano}0{mes}{dia}.xlsx\"\n",
    "        nome2 = f\"HIST_PAINEL_COVIDBR_{ano}0{mes}{dia}.xlsx\"\n",
    "    elif dia < 10:\n",
    "        nome = f\"DT_PAINEL_COVIDBR_{ano}{mes}0{dia}.xlsx\"\n",
    "        nome1 = f\"DT1_PAINEL_COVIDBR_{ano}{mes}0{dia}.xlsx\"\n",
    "        nome2 = f\"HIST_PAINEL_COVIDBR_{ano}{mes}0{dia}.xlsx\"\n",
    "    else:\n",
    "        nome = f\"DT_PAINEL_COVIDBR_{ano}{mes}{dia}.xlsx\"\n",
    "        nome1 = f\"DT1_PAINEL_COVIDBR_{ano}{mes}{dia}.xlsx\"\n",
    "        nome2 = f\"HIST_PAINEL_COVIDBR_{ano}{mes}{dia}.xlsx\"\n",
    "\n",
    "    #importando a base de dados\n",
    "    try:\n",
    "        df = pd.read_excel(nome2)\n",
    "    except:\n",
    "        try:\n",
    "            df = pd.read_excel(nome)\n",
    "        except:\n",
    "            try:\n",
    "                df = pd.read_excel(nome1)\n",
    "            except:\n",
    "                try:\n",
    "                    ultimo_arquivo = max(glob.glob(f\"{str(pathlib.Path().absolute())}/*.xlsx\"), key=os.path.getctime)\n",
    "                    df = pd.read_excel(ultimo_arquivo)\n",
    "                    print(f\"Por inconsistências do Ministério de Saúde na hora de nomear o arquivo, localizou-se a planilha mais recentemente adicionada na pasta:\\n{ultimo_arquivo}\")\n",
    "                except:\n",
    "                    print(\"Não foi possível localizar o arquivo do dia solicitado.\")\n",
    "\n",
    "    #limpando a base de dados\n",
    "    df.drop(columns = ['coduf', 'codmun', 'codRegiaoSaude','nomeRegiaoSaude','Recuperadosnovos','emAcompanhamentoNovos'], inplace = True)\n",
    "    df.rename({'semanaEpi':'semana_epi','populacaoTCU2019':'populacao','casosAcumulado':'casos','obitosAcumulado':'obitos'}, axis = 1, inplace = True)\n",
    "    df.dropna(subset = ['municipio'], axis = 0, inplace = True)\n",
    "    df['data'] = pd.to_datetime(df['data'])\n",
    "    print(\"Dados obtidos com sucesso!\")"
   ]
  },
  {
   "cell_type": "code",
   "execution_count": 119,
   "metadata": {},
   "outputs": [],
   "source": [
    "#funcao que permite a seleção da cidade e gera o gráfico\n",
    "def EstatisticasCidade():\n",
    "    global df\n",
    "    regiao = \"\"\n",
    "    uf = \"\"\n",
    "    while True:\n",
    "        print(\"Qual a cidade cujo histórico você deseja checar? Lembre-se dos acentos e de usar letra maiúscula!\")\n",
    "        cidade = input()\n",
    "        if \" \" in cidade:\n",
    "            cidade = str(cidade)\n",
    "        else:\n",
    "            cidade = str(cidade).capitalize()\n",
    "\n",
    "        df_cidade = df.loc[df['municipio'] == cidade]\n",
    "\n",
    "        if cidade.capitalize() == \"Sair\":\n",
    "            clear_output()\n",
    "            print(\"Usuário escolheu sair do gerador de gráficos.\")\n",
    "            break\n",
    "\n",
    "        elif df_cidade.empty == True:\n",
    "            clear_output()\n",
    "            print(f\"{cidade} não foi encontrada.\")\n",
    "            print(\"Certifique-se que você escreveu o nome da cidade corretamente e que ela tenha pelo menos um caso de Coronavírus!\")\n",
    "            print(f\"Se desejar sair da caixa de diálogo, escreva 'sair'\\n\")\n",
    "            pass\n",
    "        else:\n",
    "            #controle de erros (pra caso tenha mais de uma cidade com o mesmo nome)\n",
    "            if len(set(df_cidade['regiao'].values.tolist())) > 1:\n",
    "                while True:\n",
    "                    clear_output()\n",
    "                    print(f\"Eita, parece que existem várias cidades com o nome {cidade}.\\nQual a região da cidade que você está procurando?\")\n",
    "                    regiao = str(input()).capitalize()\n",
    "                    df_cidade = df_cidade.loc[df_cidade['regiao'] == regiao]\n",
    "\n",
    "                    if regiao == \"Sair\":\n",
    "                        break\n",
    "                    elif df_cidade.empty == True:\n",
    "                        print(f\"{cidade} não foi encontrada na região {regiao}.\")\n",
    "                        print(\"Certifique-se que você escreveu o nome da região corretamente!\")\n",
    "                        print(f\"Se desejar sair da caixa de diálogo, escreva 'sair'\\n\")\n",
    "                        pass\n",
    "                    #vai que existem duas cidades com o mesmo nome na mesma região\n",
    "                    elif len(set(df_cidade['estado'].values.tolist())) > 1:\n",
    "                        while True:\n",
    "                            clear_output()\n",
    "                            print(f\"Eita, parece que existem várias cidades com o nome {cidade} na regiao {regiao}\")\n",
    "                            print(\"Qual a sigla da UF da cidade que você está procurando?\")\n",
    "                            print(f\"Se desejar sair da caixa de diálogo, escreva 'sair'\\n\")\n",
    "                            uf = str(input()).upper()\n",
    "                            df_cidade = df_cidade.loc[df_cidade['estado'] == uf]\n",
    "                            if uf == \"Sair\":\n",
    "                                break\n",
    "                            elif df_cidade.empty == True:\n",
    "                                print(f\"{cidade} não foi encontrada na UF {uf}.\")\n",
    "                                print(\"Certifique-se que você escreveu a sigla da UF corretamente!\")\n",
    "                                print(f\"Se desejar sair da caixa de diálogo, escreva 'sair'\\n\")\n",
    "                            elif len(set(df_cidade['estado'].values.tolist())) > 1:\n",
    "                                print(f\"Em {uf}, há mais de uma cidade com o nome {cidade}\")\n",
    "                                print(\"Infelizmente, com os dados do Ministério da Saúde, esse programa não consegue gerar gráficos nesse caso específico\")\n",
    "                                uf = \"Sair\"\n",
    "                                break\n",
    "                            else:\n",
    "                                break\n",
    "                    else:\n",
    "                        break\n",
    "            if regiao == \"Sair\" or uf == \"Sair\":\n",
    "                clear_output()\n",
    "                print(\"Usuário escolheu sair do gerador de gráficos.\")\n",
    "                print(\"Obrigado por usar o programa\")\n",
    "                break\n",
    "\n",
    "            #limpando a tela\n",
    "            clear_output()\n",
    "\n",
    "            #capturando a UF da cidade\n",
    "            uf = str(df_cidade['estado'].head(1))\n",
    "\n",
    "            #capturando e formatando todas as datas desde que a cidade registrou o 1º caso\n",
    "            datas = df_cidade['data'].dt.strftime('%d/%m/%Y').values.tolist()\n",
    "            #capturando o número de dias que se passaram desde o 1º caso\n",
    "            num_dias = len(datas)\n",
    "            #fazendo uma array [1,2…,numero de dias]\n",
    "            eixo_x = np.arange(num_dias)\n",
    "            #capturando a data atual\n",
    "            data_atual = datas[num_dias - 1]\n",
    "\n",
    "            #capturando o número atual acumulado de casos e mortes da cidade\n",
    "            num_de_casos = int(df_cidade['casos'].tail(1))\n",
    "            num_de_mortes = int(df_cidade['obitos'].tail(1))\n",
    "\n",
    "            #capturando o número inicial de casos (referente à primeira data disponível) e criando as funções das retas auxiliares\n",
    "            num_inicial_de_casos = int(df_cidade['casos'].head(1))\n",
    "            casos_uma_semana = [round(num_inicial_de_casos * (2 ** (x/7)),0) for x in eixo_x]\n",
    "            casos_duas_semanas  = [round(num_inicial_de_casos * (2 ** (x/14)),0) for x in eixo_x]\n",
    "            casos_dez_dias  = [round(num_inicial_de_casos * (2 ** (x/10)),0) for x in eixo_x]\n",
    "\n",
    "            if num_de_mortes > 0:\n",
    "                df_cidade_prim_morte = df_cidade.loc[df['obitos'] > 0]\n",
    "                num_inicial_de_obitos = int(df_cidade_prim_morte['obitos'].head(1))\n",
    "                obitos_uma_semana = [round(num_inicial_de_obitos * (2 ** (x/7)),0) for x in eixo_x]\n",
    "                obitos_duas_semanas  = [round(num_inicial_de_obitos * (2 ** (x/14)),0) for x in eixo_x]\n",
    "                obitos_dez_dias  = [round(num_inicial_de_obitos * (2 ** (x/10)),0) for x in eixo_x]\n",
    "\n",
    "            #plottando os gráficos\n",
    "            fig = make_subplots(\n",
    "                rows = 2, cols = 1, \n",
    "                subplot_titles= (f\"<b>Número de Casos Acumulados</b>\",f\"<b>Número de Óbitos Acumulados</b>\"),\n",
    "                vertical_spacing = 0.18\n",
    "            )\n",
    "\n",
    "            #renomeando as colunas para os nomes aparecerem bonitinhos no iplot\n",
    "            df_cidade.rename({'casos':'Casos','obitos':'Óbitos','data':'Data'}, axis = 1, inplace = True)\n",
    "            \n",
    "            #primeiro gráfico\n",
    "            fig.add_trace(\n",
    "                go.Scatter(x = df_cidade['Data'], y= df_cidade['Casos'], \n",
    "                name = \"Casos\", line = dict(color = 'red',width = 3.5), \n",
    "                fill = 'tozeroy', fillcolor = 'rgba(255,0,0,0.1)'), \n",
    "                row = 1, col = 1\n",
    "            )\n",
    "            #criando as linhas de cenários\n",
    "            fig.add_trace(\n",
    "                go.Scatter(x = df_cidade['Data'], y= casos_uma_semana, \n",
    "                name = \"Caso dobrasse a cada semana\", line = dict(color = 'black',width = 3, dash = 'dot')), #formatando o nome da linha e o estilo da linha\n",
    "                row = 1, col = 1\n",
    "            )\n",
    "            fig.add_trace(\n",
    "                go.Scatter(x = df_cidade['Data'], y= casos_dez_dias, \n",
    "                name = \"Caso dobrasse a cada dez dias\", line = dict(color = 'purple',width = 3, dash = 'dot')), \n",
    "                row = 1, col = 1\n",
    "            )\n",
    "            fig.add_trace(\n",
    "                go.Scatter(x = df_cidade['Data'], y= casos_duas_semanas, \n",
    "                name = \"Caso dobrasse a cada duas semanas\", line = dict(color = 'green',width = 3, dash = 'dot')), \n",
    "                row = 1, col = 1\n",
    "            )\n",
    "\n",
    "            #segundo gráfico\n",
    "            fig.add_trace(\n",
    "                go.Scatter(x = df_cidade['Data'], y= df_cidade['Óbitos'], \n",
    "                name = \"Óbitos\", line = dict(color = 'blue',width = 3.5), \n",
    "                fill = 'tozeroy', fillcolor = 'rgba(0,0,255,0.1)'), \n",
    "                row = 2, col = 1\n",
    "            )\n",
    "            #criando as linhas de cenários\n",
    "            if num_de_mortes > 0:\n",
    "                fig.add_trace(\n",
    "                    go.Scatter(x = df_cidade_prim_morte['data'], y = obitos_uma_semana,  \n",
    "                    name = \"Caso dobrasse a cada semana\", showlegend = False, line = dict(color = 'black', width = 3, dash = 'dot')), \n",
    "                    row = 2, col = 1\n",
    "                )\n",
    "                fig.add_trace(\n",
    "                    go.Scatter(x = df_cidade_prim_morte['data'], y= obitos_dez_dias, \n",
    "                    name = \"Caso dobrasse a cada dez dias\", showlegend = False, line = dict(color = 'purple',width = 3, dash = 'dot')), \n",
    "                    row = 2, col = 1\n",
    "                )\n",
    "                fig.add_trace(\n",
    "                    go.Scatter(x = df_cidade_prim_morte['data'], y= obitos_duas_semanas, \n",
    "                    name = \"Caso dobrasse a cada duas semanas\",showlegend = False, line = dict(color = 'green',width = 3, dash = 'dot')), \n",
    "                    row = 2, col = 1\n",
    "                )\n",
    "\n",
    "            #nomeando e ajustando a altura dos eixos y\n",
    "            fig.update_yaxes(title_text = \"Casos\", row = 1, col = 1, range = [num_inicial_de_casos, num_de_casos + num_de_casos/100])\n",
    "            fig.update_yaxes(title_text = \"Mortes\", row = 2, col = 1, range = [0, num_de_mortes + num_de_mortes/50])\n",
    "\n",
    "            #criando os botões de seleção temporal\n",
    "            fig.update_xaxes(\n",
    "                range = [datas[0],datas[num_dias - 1]],\n",
    "                rangeselector=dict(\n",
    "                    buttons=list([\n",
    "                        dict(count=7, label=\"Última Semana\", step=\"day\", stepmode=\"backward\"),\n",
    "                        dict(count=14, label=\"Última Duas Semanas\", step=\"day\", stepmode=\"backward\"),\n",
    "                        dict(count=1, label=\"Último Mês\", step=\"month\", stepmode=\"backward\"),\n",
    "                        dict(count=2, label=\"Último Dois Meses\", step=\"month\", stepmode=\"backward\"),\n",
    "                        dict(label = \"Desde o 1º Caso\", step=\"all\")\n",
    "                    ])\n",
    "                )\n",
    "            )\n",
    "\n",
    "            #ajustando a posição dos títulos de cada gráfico\n",
    "            fig.layout.annotations[0].update(x=0.85, y = 1.02)\n",
    "            fig.layout.annotations[1].update(x=0.848, y = 0.43)\n",
    "\n",
    "            #ajustando a posição da legenda, dando título à figura e ajustando suas dimensões\n",
    "            fig.update_layout(\n",
    "                template = \"plotly_white\",\n",
    "                legend_orientation = 'h', legend = dict(x = 0,y = 0.53), \n",
    "                title_text = f\"<b>Painel do Coronavírus relativo à cidade de {cidade}-{uf} ({data_atual})</b>\",\n",
    "                height = 800, width = 1000,\n",
    "                margin=dict(l=30, r=30, t=100, b=20)\n",
    "            )\n",
    "            fig.show()\n",
    "\n",
    "            #calculando alguns indicadores disponiveis no site do ministério da saúde\n",
    "            print(f\"Indicadores de Contágio em {cidade}:\")\n",
    "            print(f\"\\tNovos Casos: {int(df_cidade['Casos'].tail(1)) - int(df_cidade['Casos'].tail(2).head(1))} \\tCoeficiente de Incidência: {round(num_de_casos*100000/int(df_cidade['populacao'].tail(1)),2)}\")\n",
    "            print(f\"\\nIndicadores de Mortalidade em {cidade}:\")\n",
    "            print(f\"\\tNovos Óbitos: {int(df_cidade['Óbitos'].tail(1)) - int(df_cidade['Óbitos'].tail(2).head(1))} \\tCoeficiente de Mortalidade: {round(num_de_mortes*100000/int(df_cidade['populacao'].tail(1)),2)} \\tLetalidade: {round(num_de_mortes/num_de_casos*100,2)}%\")\n",
    "            print(\"\\nPara mais informações sobre interpretações, usos e limitações dos indicadores, acesse o site do Ministério da Saúde: https://covid.saude.gov.br\")\n",
    "            break"
   ]
  },
  {
   "cell_type": "markdown",
   "metadata": {},
   "source": [
    "**AVISOS IMPORTANTES**\n",
    "\n",
    "Para o programa funcionar corretamente:\n",
    "\n",
    "1. É necessário baixar manualmente o arquivo de Excel referente ao dia atual, disponível no site https://covid.saude.gov.br;\n",
    "2. Após baixar o arquivo, certifique-se de que ele está na ***mesma pasta*** em que esse script está armazenado.\n",
    "\n",
    "Na função \"ColetarBaseDeDados\", insira como argumentos, respectivamente, o dia e o mês atual (ou referente ao dia do arquivo baixado do site do Ministério da Saúde). "
   ]
  },
  {
   "cell_type": "code",
   "execution_count": 124,
   "metadata": {},
   "outputs": [
    {
     "output_type": "stream",
     "name": "stdout",
     "text": "Dados obtidos com sucesso!\n"
    }
   ],
   "source": [
    "#primeiro argumento: dia\n",
    "#segundo argumento: mês\n",
    "#exemplo: coletar_base_de_dados(11, 5)\n",
    "#para rodar a célula, pressione Shift+Enter\n",
    "ColetarBaseDeDados(20, 5)"
   ]
  },
  {
   "cell_type": "code",
   "execution_count": 125,
   "metadata": {},
   "outputs": [
    {
     "output_type": "display_data",
     "data": {
      "application/vnd.plotly.v1+json": {
       "config": {
        "plotlyServerURL": "https://plot.ly"
       },
       "data": [
        {
         "fill": "tozeroy",
         "fillcolor": "rgba(255,0,0,0.1)",
         "line": {
          "color": "red",
          "width": 3.5
         },
         "name": "Casos",
         "type": "scatter",
         "x": [
          "2020-03-28T00:00:00",
          "2020-03-29T00:00:00",
          "2020-03-30T00:00:00",
          "2020-03-31T00:00:00",
          "2020-04-01T00:00:00",
          "2020-04-02T00:00:00",
          "2020-04-03T00:00:00",
          "2020-04-04T00:00:00",
          "2020-04-05T00:00:00",
          "2020-04-06T00:00:00",
          "2020-04-07T00:00:00",
          "2020-04-08T00:00:00",
          "2020-04-09T00:00:00",
          "2020-04-10T00:00:00",
          "2020-04-11T00:00:00",
          "2020-04-12T00:00:00",
          "2020-04-13T00:00:00",
          "2020-04-14T00:00:00",
          "2020-04-15T00:00:00",
          "2020-04-16T00:00:00",
          "2020-04-17T00:00:00",
          "2020-04-18T00:00:00",
          "2020-04-19T00:00:00",
          "2020-04-20T00:00:00",
          "2020-04-21T00:00:00",
          "2020-04-22T00:00:00",
          "2020-04-23T00:00:00",
          "2020-04-24T00:00:00",
          "2020-04-25T00:00:00",
          "2020-04-26T00:00:00",
          "2020-04-27T00:00:00",
          "2020-04-28T00:00:00",
          "2020-04-29T00:00:00",
          "2020-04-30T00:00:00",
          "2020-05-01T00:00:00",
          "2020-05-02T00:00:00",
          "2020-05-03T00:00:00",
          "2020-05-04T00:00:00",
          "2020-05-05T00:00:00",
          "2020-05-06T00:00:00",
          "2020-05-07T00:00:00",
          "2020-05-08T00:00:00",
          "2020-05-09T00:00:00",
          "2020-05-10T00:00:00",
          "2020-05-11T00:00:00",
          "2020-05-12T00:00:00",
          "2020-05-13T00:00:00",
          "2020-05-14T00:00:00"
         ],
         "xaxis": "x",
         "y": [
          260,
          289,
          312,
          332,
          355,
          370,
          402,
          454,
          468,
          473,
          492,
          509,
          527,
          555,
          579,
          614,
          638,
          651,
          682,
          716,
          746,
          762,
          827,
          872,
          881,
          946,
          963,
          989,
          1013,
          1066,
          1146,
          1213,
          1275,
          1356,
          1466,
          1566,
          1649,
          1768,
          1818,
          1906,
          2258,
          2442,
          2576,
          2682,
          2783,
          2979,
          3192,
          3416
         ],
         "yaxis": "y"
        },
        {
         "line": {
          "color": "black",
          "dash": "dot",
          "width": 3
         },
         "name": "Caso dobrasse a cada semana",
         "type": "scatter",
         "x": [
          "2020-03-28T00:00:00",
          "2020-03-29T00:00:00",
          "2020-03-30T00:00:00",
          "2020-03-31T00:00:00",
          "2020-04-01T00:00:00",
          "2020-04-02T00:00:00",
          "2020-04-03T00:00:00",
          "2020-04-04T00:00:00",
          "2020-04-05T00:00:00",
          "2020-04-06T00:00:00",
          "2020-04-07T00:00:00",
          "2020-04-08T00:00:00",
          "2020-04-09T00:00:00",
          "2020-04-10T00:00:00",
          "2020-04-11T00:00:00",
          "2020-04-12T00:00:00",
          "2020-04-13T00:00:00",
          "2020-04-14T00:00:00",
          "2020-04-15T00:00:00",
          "2020-04-16T00:00:00",
          "2020-04-17T00:00:00",
          "2020-04-18T00:00:00",
          "2020-04-19T00:00:00",
          "2020-04-20T00:00:00",
          "2020-04-21T00:00:00",
          "2020-04-22T00:00:00",
          "2020-04-23T00:00:00",
          "2020-04-24T00:00:00",
          "2020-04-25T00:00:00",
          "2020-04-26T00:00:00",
          "2020-04-27T00:00:00",
          "2020-04-28T00:00:00",
          "2020-04-29T00:00:00",
          "2020-04-30T00:00:00",
          "2020-05-01T00:00:00",
          "2020-05-02T00:00:00",
          "2020-05-03T00:00:00",
          "2020-05-04T00:00:00",
          "2020-05-05T00:00:00",
          "2020-05-06T00:00:00",
          "2020-05-07T00:00:00",
          "2020-05-08T00:00:00",
          "2020-05-09T00:00:00",
          "2020-05-10T00:00:00",
          "2020-05-11T00:00:00",
          "2020-05-12T00:00:00",
          "2020-05-13T00:00:00",
          "2020-05-14T00:00:00"
         ],
         "xaxis": "x",
         "y": [
          260,
          287,
          317,
          350,
          386,
          427,
          471,
          520,
          574,
          634,
          700,
          773,
          853,
          942,
          1040,
          1148,
          1268,
          1400,
          1545,
          1706,
          1884,
          2080,
          2297,
          2536,
          2799,
          3091,
          3413,
          3768,
          4160,
          4593,
          5071,
          5599,
          6182,
          6825,
          7536,
          8320,
          9186,
          10142,
          11198,
          12363,
          13650,
          15071,
          16640,
          18372,
          20284,
          22396,
          24727,
          27301
         ],
         "yaxis": "y"
        },
        {
         "line": {
          "color": "purple",
          "dash": "dot",
          "width": 3
         },
         "name": "Caso dobrasse a cada dez dias",
         "type": "scatter",
         "x": [
          "2020-03-28T00:00:00",
          "2020-03-29T00:00:00",
          "2020-03-30T00:00:00",
          "2020-03-31T00:00:00",
          "2020-04-01T00:00:00",
          "2020-04-02T00:00:00",
          "2020-04-03T00:00:00",
          "2020-04-04T00:00:00",
          "2020-04-05T00:00:00",
          "2020-04-06T00:00:00",
          "2020-04-07T00:00:00",
          "2020-04-08T00:00:00",
          "2020-04-09T00:00:00",
          "2020-04-10T00:00:00",
          "2020-04-11T00:00:00",
          "2020-04-12T00:00:00",
          "2020-04-13T00:00:00",
          "2020-04-14T00:00:00",
          "2020-04-15T00:00:00",
          "2020-04-16T00:00:00",
          "2020-04-17T00:00:00",
          "2020-04-18T00:00:00",
          "2020-04-19T00:00:00",
          "2020-04-20T00:00:00",
          "2020-04-21T00:00:00",
          "2020-04-22T00:00:00",
          "2020-04-23T00:00:00",
          "2020-04-24T00:00:00",
          "2020-04-25T00:00:00",
          "2020-04-26T00:00:00",
          "2020-04-27T00:00:00",
          "2020-04-28T00:00:00",
          "2020-04-29T00:00:00",
          "2020-04-30T00:00:00",
          "2020-05-01T00:00:00",
          "2020-05-02T00:00:00",
          "2020-05-03T00:00:00",
          "2020-05-04T00:00:00",
          "2020-05-05T00:00:00",
          "2020-05-06T00:00:00",
          "2020-05-07T00:00:00",
          "2020-05-08T00:00:00",
          "2020-05-09T00:00:00",
          "2020-05-10T00:00:00",
          "2020-05-11T00:00:00",
          "2020-05-12T00:00:00",
          "2020-05-13T00:00:00",
          "2020-05-14T00:00:00"
         ],
         "xaxis": "x",
         "y": [
          260,
          279,
          299,
          320,
          343,
          368,
          394,
          422,
          453,
          485,
          520,
          557,
          597,
          640,
          686,
          735,
          788,
          845,
          905,
          970,
          1040,
          1115,
          1195,
          1280,
          1372,
          1471,
          1576,
          1689,
          1811,
          1941,
          2080,
          2229,
          2389,
          2561,
          2745,
          2942,
          3153,
          3379,
          3621,
          3881,
          4160,
          4459,
          4779,
          5122,
          5489,
          5883,
          6305,
          6758
         ],
         "yaxis": "y"
        },
        {
         "line": {
          "color": "green",
          "dash": "dot",
          "width": 3
         },
         "name": "Caso dobrasse a cada duas semanas",
         "type": "scatter",
         "x": [
          "2020-03-28T00:00:00",
          "2020-03-29T00:00:00",
          "2020-03-30T00:00:00",
          "2020-03-31T00:00:00",
          "2020-04-01T00:00:00",
          "2020-04-02T00:00:00",
          "2020-04-03T00:00:00",
          "2020-04-04T00:00:00",
          "2020-04-05T00:00:00",
          "2020-04-06T00:00:00",
          "2020-04-07T00:00:00",
          "2020-04-08T00:00:00",
          "2020-04-09T00:00:00",
          "2020-04-10T00:00:00",
          "2020-04-11T00:00:00",
          "2020-04-12T00:00:00",
          "2020-04-13T00:00:00",
          "2020-04-14T00:00:00",
          "2020-04-15T00:00:00",
          "2020-04-16T00:00:00",
          "2020-04-17T00:00:00",
          "2020-04-18T00:00:00",
          "2020-04-19T00:00:00",
          "2020-04-20T00:00:00",
          "2020-04-21T00:00:00",
          "2020-04-22T00:00:00",
          "2020-04-23T00:00:00",
          "2020-04-24T00:00:00",
          "2020-04-25T00:00:00",
          "2020-04-26T00:00:00",
          "2020-04-27T00:00:00",
          "2020-04-28T00:00:00",
          "2020-04-29T00:00:00",
          "2020-04-30T00:00:00",
          "2020-05-01T00:00:00",
          "2020-05-02T00:00:00",
          "2020-05-03T00:00:00",
          "2020-05-04T00:00:00",
          "2020-05-05T00:00:00",
          "2020-05-06T00:00:00",
          "2020-05-07T00:00:00",
          "2020-05-08T00:00:00",
          "2020-05-09T00:00:00",
          "2020-05-10T00:00:00",
          "2020-05-11T00:00:00",
          "2020-05-12T00:00:00",
          "2020-05-13T00:00:00",
          "2020-05-14T00:00:00"
         ],
         "xaxis": "x",
         "y": [
          260,
          273,
          287,
          302,
          317,
          333,
          350,
          368,
          386,
          406,
          427,
          448,
          471,
          495,
          520,
          546,
          574,
          603,
          634,
          666,
          700,
          735,
          773,
          812,
          853,
          896,
          942,
          990,
          1040,
          1093,
          1148,
          1207,
          1268,
          1332,
          1400,
          1471,
          1545,
          1624,
          1706,
          1793,
          1884,
          1980,
          2080,
          2186,
          2297,
          2413,
          2536,
          2664
         ],
         "yaxis": "y"
        },
        {
         "fill": "tozeroy",
         "fillcolor": "rgba(0,0,255,0.1)",
         "line": {
          "color": "blue",
          "width": 3.5
         },
         "name": "Óbitos",
         "type": "scatter",
         "x": [
          "2020-03-28T00:00:00",
          "2020-03-29T00:00:00",
          "2020-03-30T00:00:00",
          "2020-03-31T00:00:00",
          "2020-04-01T00:00:00",
          "2020-04-02T00:00:00",
          "2020-04-03T00:00:00",
          "2020-04-04T00:00:00",
          "2020-04-05T00:00:00",
          "2020-04-06T00:00:00",
          "2020-04-07T00:00:00",
          "2020-04-08T00:00:00",
          "2020-04-09T00:00:00",
          "2020-04-10T00:00:00",
          "2020-04-11T00:00:00",
          "2020-04-12T00:00:00",
          "2020-04-13T00:00:00",
          "2020-04-14T00:00:00",
          "2020-04-15T00:00:00",
          "2020-04-16T00:00:00",
          "2020-04-17T00:00:00",
          "2020-04-18T00:00:00",
          "2020-04-19T00:00:00",
          "2020-04-20T00:00:00",
          "2020-04-21T00:00:00",
          "2020-04-22T00:00:00",
          "2020-04-23T00:00:00",
          "2020-04-24T00:00:00",
          "2020-04-25T00:00:00",
          "2020-04-26T00:00:00",
          "2020-04-27T00:00:00",
          "2020-04-28T00:00:00",
          "2020-04-29T00:00:00",
          "2020-04-30T00:00:00",
          "2020-05-01T00:00:00",
          "2020-05-02T00:00:00",
          "2020-05-03T00:00:00",
          "2020-05-04T00:00:00",
          "2020-05-05T00:00:00",
          "2020-05-06T00:00:00",
          "2020-05-07T00:00:00",
          "2020-05-08T00:00:00",
          "2020-05-09T00:00:00",
          "2020-05-10T00:00:00",
          "2020-05-11T00:00:00",
          "2020-05-12T00:00:00",
          "2020-05-13T00:00:00",
          "2020-05-14T00:00:00"
         ],
         "xaxis": "x2",
         "y": [
          0,
          1,
          1,
          3,
          3,
          4,
          5,
          7,
          7,
          10,
          12,
          12,
          13,
          14,
          14,
          14,
          15,
          17,
          17,
          20,
          20,
          24,
          24,
          24,
          24,
          25,
          25,
          26,
          26,
          27,
          27,
          28,
          28,
          30,
          30,
          31,
          33,
          33,
          33,
          34,
          35,
          37,
          39,
          42,
          44,
          46,
          48,
          51
         ],
         "yaxis": "y2"
        },
        {
         "line": {
          "color": "black",
          "dash": "dot",
          "width": 3
         },
         "name": "Caso dobrasse a cada semana",
         "showlegend": false,
         "type": "scatter",
         "x": [
          "2020-03-29T00:00:00",
          "2020-03-30T00:00:00",
          "2020-03-31T00:00:00",
          "2020-04-01T00:00:00",
          "2020-04-02T00:00:00",
          "2020-04-03T00:00:00",
          "2020-04-04T00:00:00",
          "2020-04-05T00:00:00",
          "2020-04-06T00:00:00",
          "2020-04-07T00:00:00",
          "2020-04-08T00:00:00",
          "2020-04-09T00:00:00",
          "2020-04-10T00:00:00",
          "2020-04-11T00:00:00",
          "2020-04-12T00:00:00",
          "2020-04-13T00:00:00",
          "2020-04-14T00:00:00",
          "2020-04-15T00:00:00",
          "2020-04-16T00:00:00",
          "2020-04-17T00:00:00",
          "2020-04-18T00:00:00",
          "2020-04-19T00:00:00",
          "2020-04-20T00:00:00",
          "2020-04-21T00:00:00",
          "2020-04-22T00:00:00",
          "2020-04-23T00:00:00",
          "2020-04-24T00:00:00",
          "2020-04-25T00:00:00",
          "2020-04-26T00:00:00",
          "2020-04-27T00:00:00",
          "2020-04-28T00:00:00",
          "2020-04-29T00:00:00",
          "2020-04-30T00:00:00",
          "2020-05-01T00:00:00",
          "2020-05-02T00:00:00",
          "2020-05-03T00:00:00",
          "2020-05-04T00:00:00",
          "2020-05-05T00:00:00",
          "2020-05-06T00:00:00",
          "2020-05-07T00:00:00",
          "2020-05-08T00:00:00",
          "2020-05-09T00:00:00",
          "2020-05-10T00:00:00",
          "2020-05-11T00:00:00",
          "2020-05-12T00:00:00",
          "2020-05-13T00:00:00",
          "2020-05-14T00:00:00"
         ],
         "xaxis": "x2",
         "y": [
          1,
          1,
          1,
          1,
          1,
          2,
          2,
          2,
          2,
          2,
          3,
          3,
          3,
          4,
          4,
          4,
          5,
          5,
          6,
          7,
          7,
          8,
          9,
          10,
          11,
          12,
          13,
          14,
          16,
          18,
          20,
          22,
          24,
          26,
          29,
          32,
          35,
          39,
          43,
          48,
          53,
          58,
          64,
          71,
          78,
          86,
          95,
          105
         ],
         "yaxis": "y2"
        },
        {
         "line": {
          "color": "purple",
          "dash": "dot",
          "width": 3
         },
         "name": "Caso dobrasse a cada dez dias",
         "showlegend": false,
         "type": "scatter",
         "x": [
          "2020-03-29T00:00:00",
          "2020-03-30T00:00:00",
          "2020-03-31T00:00:00",
          "2020-04-01T00:00:00",
          "2020-04-02T00:00:00",
          "2020-04-03T00:00:00",
          "2020-04-04T00:00:00",
          "2020-04-05T00:00:00",
          "2020-04-06T00:00:00",
          "2020-04-07T00:00:00",
          "2020-04-08T00:00:00",
          "2020-04-09T00:00:00",
          "2020-04-10T00:00:00",
          "2020-04-11T00:00:00",
          "2020-04-12T00:00:00",
          "2020-04-13T00:00:00",
          "2020-04-14T00:00:00",
          "2020-04-15T00:00:00",
          "2020-04-16T00:00:00",
          "2020-04-17T00:00:00",
          "2020-04-18T00:00:00",
          "2020-04-19T00:00:00",
          "2020-04-20T00:00:00",
          "2020-04-21T00:00:00",
          "2020-04-22T00:00:00",
          "2020-04-23T00:00:00",
          "2020-04-24T00:00:00",
          "2020-04-25T00:00:00",
          "2020-04-26T00:00:00",
          "2020-04-27T00:00:00",
          "2020-04-28T00:00:00",
          "2020-04-29T00:00:00",
          "2020-04-30T00:00:00",
          "2020-05-01T00:00:00",
          "2020-05-02T00:00:00",
          "2020-05-03T00:00:00",
          "2020-05-04T00:00:00",
          "2020-05-05T00:00:00",
          "2020-05-06T00:00:00",
          "2020-05-07T00:00:00",
          "2020-05-08T00:00:00",
          "2020-05-09T00:00:00",
          "2020-05-10T00:00:00",
          "2020-05-11T00:00:00",
          "2020-05-12T00:00:00",
          "2020-05-13T00:00:00",
          "2020-05-14T00:00:00"
         ],
         "xaxis": "x2",
         "y": [
          1,
          1,
          1,
          1,
          1,
          1,
          2,
          2,
          2,
          2,
          2,
          2,
          2,
          2,
          3,
          3,
          3,
          3,
          3,
          4,
          4,
          4,
          5,
          5,
          5,
          6,
          6,
          6,
          7,
          7,
          8,
          9,
          9,
          10,
          11,
          11,
          12,
          13,
          14,
          15,
          16,
          17,
          18,
          20,
          21,
          23,
          24,
          26
         ],
         "yaxis": "y2"
        },
        {
         "line": {
          "color": "green",
          "dash": "dot",
          "width": 3
         },
         "name": "Caso dobrasse a cada duas semanas",
         "showlegend": false,
         "type": "scatter",
         "x": [
          "2020-03-29T00:00:00",
          "2020-03-30T00:00:00",
          "2020-03-31T00:00:00",
          "2020-04-01T00:00:00",
          "2020-04-02T00:00:00",
          "2020-04-03T00:00:00",
          "2020-04-04T00:00:00",
          "2020-04-05T00:00:00",
          "2020-04-06T00:00:00",
          "2020-04-07T00:00:00",
          "2020-04-08T00:00:00",
          "2020-04-09T00:00:00",
          "2020-04-10T00:00:00",
          "2020-04-11T00:00:00",
          "2020-04-12T00:00:00",
          "2020-04-13T00:00:00",
          "2020-04-14T00:00:00",
          "2020-04-15T00:00:00",
          "2020-04-16T00:00:00",
          "2020-04-17T00:00:00",
          "2020-04-18T00:00:00",
          "2020-04-19T00:00:00",
          "2020-04-20T00:00:00",
          "2020-04-21T00:00:00",
          "2020-04-22T00:00:00",
          "2020-04-23T00:00:00",
          "2020-04-24T00:00:00",
          "2020-04-25T00:00:00",
          "2020-04-26T00:00:00",
          "2020-04-27T00:00:00",
          "2020-04-28T00:00:00",
          "2020-04-29T00:00:00",
          "2020-04-30T00:00:00",
          "2020-05-01T00:00:00",
          "2020-05-02T00:00:00",
          "2020-05-03T00:00:00",
          "2020-05-04T00:00:00",
          "2020-05-05T00:00:00",
          "2020-05-06T00:00:00",
          "2020-05-07T00:00:00",
          "2020-05-08T00:00:00",
          "2020-05-09T00:00:00",
          "2020-05-10T00:00:00",
          "2020-05-11T00:00:00",
          "2020-05-12T00:00:00",
          "2020-05-13T00:00:00",
          "2020-05-14T00:00:00"
         ],
         "xaxis": "x2",
         "y": [
          1,
          1,
          1,
          1,
          1,
          1,
          1,
          1,
          1,
          2,
          2,
          2,
          2,
          2,
          2,
          2,
          2,
          2,
          2,
          3,
          3,
          3,
          3,
          3,
          3,
          3,
          4,
          4,
          4,
          4,
          4,
          5,
          5,
          5,
          5,
          6,
          6,
          6,
          7,
          7,
          7,
          8,
          8,
          8,
          9,
          9,
          10,
          10
         ],
         "yaxis": "y2"
        }
       ],
       "layout": {
        "annotations": [
         {
          "font": {
           "size": 16
          },
          "showarrow": false,
          "text": "<b>Número de Casos Acumulados</b>",
          "x": 0.85,
          "xanchor": "center",
          "xref": "paper",
          "y": 1.02,
          "yanchor": "bottom",
          "yref": "paper"
         },
         {
          "font": {
           "size": 16
          },
          "showarrow": false,
          "text": "<b>Número de Óbitos Acumulados</b>",
          "x": 0.848,
          "xanchor": "center",
          "xref": "paper",
          "y": 0.43,
          "yanchor": "bottom",
          "yref": "paper"
         }
        ],
        "height": 800,
        "legend": {
         "orientation": "h",
         "x": 0,
         "y": 0.53
        },
        "margin": {
         "b": 20,
         "l": 30,
         "r": 30,
         "t": 100
        },
        "template": {
         "data": {
          "bar": [
           {
            "error_x": {
             "color": "#2a3f5f"
            },
            "error_y": {
             "color": "#2a3f5f"
            },
            "marker": {
             "line": {
              "color": "white",
              "width": 0.5
             }
            },
            "type": "bar"
           }
          ],
          "barpolar": [
           {
            "marker": {
             "line": {
              "color": "white",
              "width": 0.5
             }
            },
            "type": "barpolar"
           }
          ],
          "carpet": [
           {
            "aaxis": {
             "endlinecolor": "#2a3f5f",
             "gridcolor": "#C8D4E3",
             "linecolor": "#C8D4E3",
             "minorgridcolor": "#C8D4E3",
             "startlinecolor": "#2a3f5f"
            },
            "baxis": {
             "endlinecolor": "#2a3f5f",
             "gridcolor": "#C8D4E3",
             "linecolor": "#C8D4E3",
             "minorgridcolor": "#C8D4E3",
             "startlinecolor": "#2a3f5f"
            },
            "type": "carpet"
           }
          ],
          "choropleth": [
           {
            "colorbar": {
             "outlinewidth": 0,
             "ticks": ""
            },
            "type": "choropleth"
           }
          ],
          "contour": [
           {
            "colorbar": {
             "outlinewidth": 0,
             "ticks": ""
            },
            "colorscale": [
             [
              0,
              "#0d0887"
             ],
             [
              0.1111111111111111,
              "#46039f"
             ],
             [
              0.2222222222222222,
              "#7201a8"
             ],
             [
              0.3333333333333333,
              "#9c179e"
             ],
             [
              0.4444444444444444,
              "#bd3786"
             ],
             [
              0.5555555555555556,
              "#d8576b"
             ],
             [
              0.6666666666666666,
              "#ed7953"
             ],
             [
              0.7777777777777778,
              "#fb9f3a"
             ],
             [
              0.8888888888888888,
              "#fdca26"
             ],
             [
              1,
              "#f0f921"
             ]
            ],
            "type": "contour"
           }
          ],
          "contourcarpet": [
           {
            "colorbar": {
             "outlinewidth": 0,
             "ticks": ""
            },
            "type": "contourcarpet"
           }
          ],
          "heatmap": [
           {
            "colorbar": {
             "outlinewidth": 0,
             "ticks": ""
            },
            "colorscale": [
             [
              0,
              "#0d0887"
             ],
             [
              0.1111111111111111,
              "#46039f"
             ],
             [
              0.2222222222222222,
              "#7201a8"
             ],
             [
              0.3333333333333333,
              "#9c179e"
             ],
             [
              0.4444444444444444,
              "#bd3786"
             ],
             [
              0.5555555555555556,
              "#d8576b"
             ],
             [
              0.6666666666666666,
              "#ed7953"
             ],
             [
              0.7777777777777778,
              "#fb9f3a"
             ],
             [
              0.8888888888888888,
              "#fdca26"
             ],
             [
              1,
              "#f0f921"
             ]
            ],
            "type": "heatmap"
           }
          ],
          "heatmapgl": [
           {
            "colorbar": {
             "outlinewidth": 0,
             "ticks": ""
            },
            "colorscale": [
             [
              0,
              "#0d0887"
             ],
             [
              0.1111111111111111,
              "#46039f"
             ],
             [
              0.2222222222222222,
              "#7201a8"
             ],
             [
              0.3333333333333333,
              "#9c179e"
             ],
             [
              0.4444444444444444,
              "#bd3786"
             ],
             [
              0.5555555555555556,
              "#d8576b"
             ],
             [
              0.6666666666666666,
              "#ed7953"
             ],
             [
              0.7777777777777778,
              "#fb9f3a"
             ],
             [
              0.8888888888888888,
              "#fdca26"
             ],
             [
              1,
              "#f0f921"
             ]
            ],
            "type": "heatmapgl"
           }
          ],
          "histogram": [
           {
            "marker": {
             "colorbar": {
              "outlinewidth": 0,
              "ticks": ""
             }
            },
            "type": "histogram"
           }
          ],
          "histogram2d": [
           {
            "colorbar": {
             "outlinewidth": 0,
             "ticks": ""
            },
            "colorscale": [
             [
              0,
              "#0d0887"
             ],
             [
              0.1111111111111111,
              "#46039f"
             ],
             [
              0.2222222222222222,
              "#7201a8"
             ],
             [
              0.3333333333333333,
              "#9c179e"
             ],
             [
              0.4444444444444444,
              "#bd3786"
             ],
             [
              0.5555555555555556,
              "#d8576b"
             ],
             [
              0.6666666666666666,
              "#ed7953"
             ],
             [
              0.7777777777777778,
              "#fb9f3a"
             ],
             [
              0.8888888888888888,
              "#fdca26"
             ],
             [
              1,
              "#f0f921"
             ]
            ],
            "type": "histogram2d"
           }
          ],
          "histogram2dcontour": [
           {
            "colorbar": {
             "outlinewidth": 0,
             "ticks": ""
            },
            "colorscale": [
             [
              0,
              "#0d0887"
             ],
             [
              0.1111111111111111,
              "#46039f"
             ],
             [
              0.2222222222222222,
              "#7201a8"
             ],
             [
              0.3333333333333333,
              "#9c179e"
             ],
             [
              0.4444444444444444,
              "#bd3786"
             ],
             [
              0.5555555555555556,
              "#d8576b"
             ],
             [
              0.6666666666666666,
              "#ed7953"
             ],
             [
              0.7777777777777778,
              "#fb9f3a"
             ],
             [
              0.8888888888888888,
              "#fdca26"
             ],
             [
              1,
              "#f0f921"
             ]
            ],
            "type": "histogram2dcontour"
           }
          ],
          "mesh3d": [
           {
            "colorbar": {
             "outlinewidth": 0,
             "ticks": ""
            },
            "type": "mesh3d"
           }
          ],
          "parcoords": [
           {
            "line": {
             "colorbar": {
              "outlinewidth": 0,
              "ticks": ""
             }
            },
            "type": "parcoords"
           }
          ],
          "pie": [
           {
            "automargin": true,
            "type": "pie"
           }
          ],
          "scatter": [
           {
            "marker": {
             "colorbar": {
              "outlinewidth": 0,
              "ticks": ""
             }
            },
            "type": "scatter"
           }
          ],
          "scatter3d": [
           {
            "line": {
             "colorbar": {
              "outlinewidth": 0,
              "ticks": ""
             }
            },
            "marker": {
             "colorbar": {
              "outlinewidth": 0,
              "ticks": ""
             }
            },
            "type": "scatter3d"
           }
          ],
          "scattercarpet": [
           {
            "marker": {
             "colorbar": {
              "outlinewidth": 0,
              "ticks": ""
             }
            },
            "type": "scattercarpet"
           }
          ],
          "scattergeo": [
           {
            "marker": {
             "colorbar": {
              "outlinewidth": 0,
              "ticks": ""
             }
            },
            "type": "scattergeo"
           }
          ],
          "scattergl": [
           {
            "marker": {
             "colorbar": {
              "outlinewidth": 0,
              "ticks": ""
             }
            },
            "type": "scattergl"
           }
          ],
          "scattermapbox": [
           {
            "marker": {
             "colorbar": {
              "outlinewidth": 0,
              "ticks": ""
             }
            },
            "type": "scattermapbox"
           }
          ],
          "scatterpolar": [
           {
            "marker": {
             "colorbar": {
              "outlinewidth": 0,
              "ticks": ""
             }
            },
            "type": "scatterpolar"
           }
          ],
          "scatterpolargl": [
           {
            "marker": {
             "colorbar": {
              "outlinewidth": 0,
              "ticks": ""
             }
            },
            "type": "scatterpolargl"
           }
          ],
          "scatterternary": [
           {
            "marker": {
             "colorbar": {
              "outlinewidth": 0,
              "ticks": ""
             }
            },
            "type": "scatterternary"
           }
          ],
          "surface": [
           {
            "colorbar": {
             "outlinewidth": 0,
             "ticks": ""
            },
            "colorscale": [
             [
              0,
              "#0d0887"
             ],
             [
              0.1111111111111111,
              "#46039f"
             ],
             [
              0.2222222222222222,
              "#7201a8"
             ],
             [
              0.3333333333333333,
              "#9c179e"
             ],
             [
              0.4444444444444444,
              "#bd3786"
             ],
             [
              0.5555555555555556,
              "#d8576b"
             ],
             [
              0.6666666666666666,
              "#ed7953"
             ],
             [
              0.7777777777777778,
              "#fb9f3a"
             ],
             [
              0.8888888888888888,
              "#fdca26"
             ],
             [
              1,
              "#f0f921"
             ]
            ],
            "type": "surface"
           }
          ],
          "table": [
           {
            "cells": {
             "fill": {
              "color": "#EBF0F8"
             },
             "line": {
              "color": "white"
             }
            },
            "header": {
             "fill": {
              "color": "#C8D4E3"
             },
             "line": {
              "color": "white"
             }
            },
            "type": "table"
           }
          ]
         },
         "layout": {
          "annotationdefaults": {
           "arrowcolor": "#2a3f5f",
           "arrowhead": 0,
           "arrowwidth": 1
          },
          "coloraxis": {
           "colorbar": {
            "outlinewidth": 0,
            "ticks": ""
           }
          },
          "colorscale": {
           "diverging": [
            [
             0,
             "#8e0152"
            ],
            [
             0.1,
             "#c51b7d"
            ],
            [
             0.2,
             "#de77ae"
            ],
            [
             0.3,
             "#f1b6da"
            ],
            [
             0.4,
             "#fde0ef"
            ],
            [
             0.5,
             "#f7f7f7"
            ],
            [
             0.6,
             "#e6f5d0"
            ],
            [
             0.7,
             "#b8e186"
            ],
            [
             0.8,
             "#7fbc41"
            ],
            [
             0.9,
             "#4d9221"
            ],
            [
             1,
             "#276419"
            ]
           ],
           "sequential": [
            [
             0,
             "#0d0887"
            ],
            [
             0.1111111111111111,
             "#46039f"
            ],
            [
             0.2222222222222222,
             "#7201a8"
            ],
            [
             0.3333333333333333,
             "#9c179e"
            ],
            [
             0.4444444444444444,
             "#bd3786"
            ],
            [
             0.5555555555555556,
             "#d8576b"
            ],
            [
             0.6666666666666666,
             "#ed7953"
            ],
            [
             0.7777777777777778,
             "#fb9f3a"
            ],
            [
             0.8888888888888888,
             "#fdca26"
            ],
            [
             1,
             "#f0f921"
            ]
           ],
           "sequentialminus": [
            [
             0,
             "#0d0887"
            ],
            [
             0.1111111111111111,
             "#46039f"
            ],
            [
             0.2222222222222222,
             "#7201a8"
            ],
            [
             0.3333333333333333,
             "#9c179e"
            ],
            [
             0.4444444444444444,
             "#bd3786"
            ],
            [
             0.5555555555555556,
             "#d8576b"
            ],
            [
             0.6666666666666666,
             "#ed7953"
            ],
            [
             0.7777777777777778,
             "#fb9f3a"
            ],
            [
             0.8888888888888888,
             "#fdca26"
            ],
            [
             1,
             "#f0f921"
            ]
           ]
          },
          "colorway": [
           "#636efa",
           "#EF553B",
           "#00cc96",
           "#ab63fa",
           "#FFA15A",
           "#19d3f3",
           "#FF6692",
           "#B6E880",
           "#FF97FF",
           "#FECB52"
          ],
          "font": {
           "color": "#2a3f5f"
          },
          "geo": {
           "bgcolor": "white",
           "lakecolor": "white",
           "landcolor": "white",
           "showlakes": true,
           "showland": true,
           "subunitcolor": "#C8D4E3"
          },
          "hoverlabel": {
           "align": "left"
          },
          "hovermode": "closest",
          "mapbox": {
           "style": "light"
          },
          "paper_bgcolor": "white",
          "plot_bgcolor": "white",
          "polar": {
           "angularaxis": {
            "gridcolor": "#EBF0F8",
            "linecolor": "#EBF0F8",
            "ticks": ""
           },
           "bgcolor": "white",
           "radialaxis": {
            "gridcolor": "#EBF0F8",
            "linecolor": "#EBF0F8",
            "ticks": ""
           }
          },
          "scene": {
           "xaxis": {
            "backgroundcolor": "white",
            "gridcolor": "#DFE8F3",
            "gridwidth": 2,
            "linecolor": "#EBF0F8",
            "showbackground": true,
            "ticks": "",
            "zerolinecolor": "#EBF0F8"
           },
           "yaxis": {
            "backgroundcolor": "white",
            "gridcolor": "#DFE8F3",
            "gridwidth": 2,
            "linecolor": "#EBF0F8",
            "showbackground": true,
            "ticks": "",
            "zerolinecolor": "#EBF0F8"
           },
           "zaxis": {
            "backgroundcolor": "white",
            "gridcolor": "#DFE8F3",
            "gridwidth": 2,
            "linecolor": "#EBF0F8",
            "showbackground": true,
            "ticks": "",
            "zerolinecolor": "#EBF0F8"
           }
          },
          "shapedefaults": {
           "line": {
            "color": "#2a3f5f"
           }
          },
          "ternary": {
           "aaxis": {
            "gridcolor": "#DFE8F3",
            "linecolor": "#A2B1C6",
            "ticks": ""
           },
           "baxis": {
            "gridcolor": "#DFE8F3",
            "linecolor": "#A2B1C6",
            "ticks": ""
           },
           "bgcolor": "white",
           "caxis": {
            "gridcolor": "#DFE8F3",
            "linecolor": "#A2B1C6",
            "ticks": ""
           }
          },
          "title": {
           "x": 0.05
          },
          "xaxis": {
           "automargin": true,
           "gridcolor": "#EBF0F8",
           "linecolor": "#EBF0F8",
           "ticks": "",
           "title": {
            "standoff": 15
           },
           "zerolinecolor": "#EBF0F8",
           "zerolinewidth": 2
          },
          "yaxis": {
           "automargin": true,
           "gridcolor": "#EBF0F8",
           "linecolor": "#EBF0F8",
           "ticks": "",
           "title": {
            "standoff": 15
           },
           "zerolinecolor": "#EBF0F8",
           "zerolinewidth": 2
          }
         }
        },
        "title": {
         "text": "<b>Painel do Coronavírus relativo à cidade de Brasília (14/05/2020)</b>"
        },
        "width": 1000,
        "xaxis": {
         "anchor": "y",
         "domain": [
          0,
          1
         ],
         "range": [
          "28/03/2020",
          "14/05/2020"
         ],
         "rangeselector": {
          "buttons": [
           {
            "count": 7,
            "label": "Última Semana",
            "step": "day",
            "stepmode": "backward"
           },
           {
            "count": 14,
            "label": "Última Duas Semanas",
            "step": "day",
            "stepmode": "backward"
           },
           {
            "count": 1,
            "label": "Último Mês",
            "step": "month",
            "stepmode": "backward"
           },
           {
            "count": 2,
            "label": "Último Dois Meses",
            "step": "month",
            "stepmode": "backward"
           },
           {
            "label": "Desde o 1º Caso",
            "step": "all"
           }
          ]
         }
        },
        "xaxis2": {
         "anchor": "y2",
         "domain": [
          0,
          1
         ],
         "range": [
          "28/03/2020",
          "14/05/2020"
         ],
         "rangeselector": {
          "buttons": [
           {
            "count": 7,
            "label": "Última Semana",
            "step": "day",
            "stepmode": "backward"
           },
           {
            "count": 14,
            "label": "Última Duas Semanas",
            "step": "day",
            "stepmode": "backward"
           },
           {
            "count": 1,
            "label": "Último Mês",
            "step": "month",
            "stepmode": "backward"
           },
           {
            "count": 2,
            "label": "Último Dois Meses",
            "step": "month",
            "stepmode": "backward"
           },
           {
            "label": "Desde o 1º Caso",
            "step": "all"
           }
          ]
         }
        },
        "yaxis": {
         "anchor": "x",
         "domain": [
          0.5900000000000001,
          1
         ],
         "range": [
          260,
          3450.16
         ],
         "title": {
          "text": "Casos"
         }
        },
        "yaxis2": {
         "anchor": "x2",
         "domain": [
          0,
          0.41000000000000003
         ],
         "range": [
          0,
          52.02
         ],
         "title": {
          "text": "Mortes"
         }
        }
       }
      }
     },
     "metadata": {}
    },
    {
     "output_type": "stream",
     "name": "stdout",
     "text": "Indicadores de Contágio em Brasília:\n\tNovos Casos: 224 \tCoeficiente de Incidência: 113.29\n\nIndicadores de Mortalidade em Brasília:\n\tNovos Óbitos: 3 \tCoeficiente de Mortalidade: 1.69 \tLetalidade: 1.49%\n\nPara mais informações sobre interpretações, usos e limitações dos indicadores, acesse o site do Ministério da Saúde: https://covid.saude.gov.br\n"
    }
   ],
   "source": [
    "#para rodar a célula, pressione Shift+Enter e siga as intruções para gerar o gráfico\n",
    "EstatisticasCidade()"
   ]
  },
  {
   "cell_type": "markdown",
   "metadata": {},
   "source": [
    "**Obrigado por usar o programa. Qualquer sugestão ou aprimoramento é muito bem-vinda ;)**"
   ]
  }
 ],
 "metadata": {
  "language_info": {
   "codemirror_mode": {
    "name": "ipython",
    "version": 3
   },
   "file_extension": ".py",
   "mimetype": "text/x-python",
   "name": "python",
   "nbconvert_exporter": "python",
   "pygments_lexer": "ipython3",
   "version": "3.7.7-final"
  },
  "orig_nbformat": 2,
  "kernelspec": {
   "name": "python37764bitmyenvconda3d1bafc1aa974ba28648dc51e09b6a19",
   "display_name": "Python 3.7.7 64-bit ('myenv': conda)"
  }
 },
 "nbformat": 4,
 "nbformat_minor": 2
}